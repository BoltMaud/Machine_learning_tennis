{
 "cells": [
  {
   "cell_type": "markdown",
   "metadata": {},
   "source": [
    "# Prédiction de matchs de Tennis \n",
    "\n",
    "> Test technique DataGenius\n",
    "\n",
    "> Date : Février 2018\n",
    "\n",
    "> Auteur : Mathilde Boltenhagen\n",
    "\n",
    "L'objectif de ce notebook est d'étudier une base de données de matchs de tennis afin de trouver un modèle permettant de prédire les gagnants. Pour cela, nous allons séparer les étapes d'analyse suivant le plan ci-dessous. \n",
    "\n",
    "[I. Découverte du jeu de données](#titre1)\n",
    "\n",
    "Chargement des tables, première sélection des colonnes selon choix arbitraire, valeur sémantique.\n",
    "\n",
    "[II. Nettoyage des données ](#titre2)\n",
    "\n",
    "Normaliser les données numériques, binariser les données catégorielles, gérer les données de type DATE. \n",
    "\n",
    "[III. Sélection de variables ](#titre3)\n",
    "\n",
    "Utilisation de RandomForest pour garder les variables les plus intéressantes\n",
    "\n",
    "[IV. Création de modèles ](#titre3)\n",
    "\n",
    "Apprentissage sur les données train selon le meilleur modèle. Test avec une librairie sklearn qui divise le datatrain en deux,test et train, fait du cross-validation et donne l'accuracy. \n",
    "\n",
    "\n",
    "**Note : j'ai renommé le fichier test.csv en test_without_pred.csv afin de ne pas l'écraser avec le nom demandé pour l'évaluation **\n"
   ]
  },
  {
   "cell_type": "markdown",
   "metadata": {},
   "source": [
    "# I. Découverte du jeu de données <a id=\"titre1\"></a>\n",
    "\n",
    "Le premier but est de comprendre la structure des données et de reconstruire la base de données de telle sorte à ne garder que les éléments qui nous semblent intéressants. Nous allons donc charger les fichiers un à un, comprendre les éléments essentiels et essayer de construire une unique table. \n",
    "\n",
    "#### Players\n",
    "Nous commençons par étudier la table players et constatons de nombreuses colonnes dont nous n'avons pas les descriptions et qui sont très souvent à valeur inconnue. On retient alors les colonnes \"ID_P\", \"DATE_P\", \"COUNTRY_P\", \"NAME_P\" et \"RANK_P\". La date de naissance pourrait être un facteur de réussite. Le nom du joueur n'est pas forcément intéressant puisque nous avons l'identifiant."
   ]
  },
  {
   "cell_type": "code",
   "execution_count": 1,
   "metadata": {},
   "outputs": [
    {
     "name": "stdout",
     "output_type": "stream",
     "text": [
      "   ID_P               DATE_P COUNTRY_P  RANK_P\n",
      "0     1  1976-09-10 00:00:00       BRA     NaN\n",
      "1     2  1980-01-27 00:00:00       RUS     NaN\n",
      "(55562, 4)\n"
     ]
    }
   ],
   "source": [
    "import pandas as pd\n",
    "import numpy as np\n",
    "\n",
    "# on récupère les données\n",
    "players = pd.read_csv(\"players.csv\",usecols=[\"ID_P\",\"DATE_P\",\"COUNTRY_P\",\"RANK_P\" ])\n",
    "print(players.head(2))\n",
    "print(players.shape)"
   ]
  },
  {
   "cell_type": "markdown",
   "metadata": {},
   "source": [
    "Nous avons 55562 joueurs de Tennis dans cette base de données. On constate que la colonne RANK_P a l'air souvent null et comptons alors le nombre de valeurs manquantes. "
   ]
  },
  {
   "cell_type": "code",
   "execution_count": 2,
   "metadata": {},
   "outputs": [
    {
     "name": "stdout",
     "output_type": "stream",
     "text": [
      "Nombre de valeurs nulles de RANK_P : 54662\n",
      "Nombre de joueurs ayant un rang :  900\n"
     ]
    }
   ],
   "source": [
    "print(\"Nombre de valeurs nulles de RANK_P :\",np.sum(players[\"RANK_P\"].isnull()))\n",
    "print(\"Nombre de joueurs ayant un rang : \",players.shape[0]-np.sum(players[\"RANK_P\"].isnull()))"
   ]
  },
  {
   "cell_type": "markdown",
   "metadata": {},
   "source": [
    "On comprend que 900 joueurs sont classés et risque d'avoir des chances de gagner les matchs face à des joueurs non-classés. C'est donc une donnée utile malgré les valeurs manquantes!\n",
    "\n",
    "#### Player_rates\n",
    "\n",
    "La table player_rates contient 5 colonnes. La première est inutile car nous n'avons pas besoin d'un ID de cette table. Toutes les autres semblent intéressantes. On comprend que ID_P_R est l'identifiant d'un joueur, DATE_R la date du classement, POINT_R le nombre de points et POS_R le classement du joueur à la DATE_R."
   ]
  },
  {
   "cell_type": "code",
   "execution_count": 3,
   "metadata": {},
   "outputs": [
    {
     "name": "stdout",
     "output_type": "stream",
     "text": [
      "   Unnamed: 0               DATE_R  ID_P_R  POINT_R  POS_R\n",
      "0           0  2012-01-02 00:00:00    5992    13630      1\n",
      "1           1  2012-01-02 00:00:00     677     9595      2\n"
     ]
    }
   ],
   "source": [
    "player_rates = pd.read_csv(\"player_rates.csv\")\n",
    "print(player_rates.head(2))"
   ]
  },
  {
   "cell_type": "code",
   "execution_count": 4,
   "metadata": {},
   "outputs": [
    {
     "name": "stdout",
     "output_type": "stream",
     "text": [
      "(172154, 4)\n",
      "1487\n"
     ]
    }
   ],
   "source": [
    "# suppression de la première colonne inutile\n",
    "player_rates.drop(player_rates.columns[0],axis=\"columns\", inplace=True)\n",
    "print(player_rates.shape)\n",
    "print(len(player_rates[\"ID_P_R\"].unique()))"
   ]
  },
  {
   "cell_type": "markdown",
   "metadata": {},
   "source": [
    "On note que nous avons beaucoup de données de rating mais pour peu de joueurs. Seulement 1487 joueurs sur 55562 ont des données dans cette table. \n",
    "\n",
    "\n",
    "#### Stats\n",
    "\n",
    "La table stats contient tout le déroulement des matchs. Nous décidons de garder toutes les colonnes pour le moment sauf l'ID de la table qui ne nous est pas utile. "
   ]
  },
  {
   "cell_type": "code",
   "execution_count": 5,
   "metadata": {},
   "outputs": [
    {
     "data": {
      "text/html": [
       "<div>\n",
       "<style scoped>\n",
       "    .dataframe tbody tr th:only-of-type {\n",
       "        vertical-align: middle;\n",
       "    }\n",
       "\n",
       "    .dataframe tbody tr th {\n",
       "        vertical-align: top;\n",
       "    }\n",
       "\n",
       "    .dataframe thead th {\n",
       "        text-align: right;\n",
       "    }\n",
       "</style>\n",
       "<table border=\"1\" class=\"dataframe\">\n",
       "  <thead>\n",
       "    <tr style=\"text-align: right;\">\n",
       "      <th></th>\n",
       "      <th>ID1</th>\n",
       "      <th>ID2</th>\n",
       "      <th>ID_T</th>\n",
       "      <th>ID_R</th>\n",
       "      <th>FS_1</th>\n",
       "      <th>FSOF_1</th>\n",
       "      <th>ACES_1</th>\n",
       "      <th>DF_1</th>\n",
       "      <th>UE_1</th>\n",
       "      <th>W1S_1</th>\n",
       "      <th>...</th>\n",
       "      <th>NA_2</th>\n",
       "      <th>NAOF_2</th>\n",
       "      <th>TPW_2</th>\n",
       "      <th>FAST_2</th>\n",
       "      <th>A1S_2</th>\n",
       "      <th>A2S_2</th>\n",
       "      <th>RPW_1</th>\n",
       "      <th>RPWOF_1</th>\n",
       "      <th>RPW_2</th>\n",
       "      <th>RPWOF_2</th>\n",
       "    </tr>\n",
       "  </thead>\n",
       "  <tbody>\n",
       "    <tr>\n",
       "      <th>count</th>\n",
       "      <td>75611.000000</td>\n",
       "      <td>75611.000000</td>\n",
       "      <td>75611.000000</td>\n",
       "      <td>75611.000000</td>\n",
       "      <td>75609.000000</td>\n",
       "      <td>75609.000000</td>\n",
       "      <td>74898.000000</td>\n",
       "      <td>75389.000000</td>\n",
       "      <td>5369.000000</td>\n",
       "      <td>75611.000000</td>\n",
       "      <td>...</td>\n",
       "      <td>2725.000000</td>\n",
       "      <td>2724.000000</td>\n",
       "      <td>75611.000000</td>\n",
       "      <td>1714.000000</td>\n",
       "      <td>1681.000000</td>\n",
       "      <td>1681.000000</td>\n",
       "      <td>75126.000000</td>\n",
       "      <td>75126.000000</td>\n",
       "      <td>75126.000000</td>\n",
       "      <td>75126.000000</td>\n",
       "    </tr>\n",
       "    <tr>\n",
       "      <th>mean</th>\n",
       "      <td>13959.548981</td>\n",
       "      <td>15796.505575</td>\n",
       "      <td>11302.224716</td>\n",
       "      <td>4.769094</td>\n",
       "      <td>42.391408</td>\n",
       "      <td>68.063736</td>\n",
       "      <td>4.813813</td>\n",
       "      <td>2.567125</td>\n",
       "      <td>18.518346</td>\n",
       "      <td>31.524130</td>\n",
       "      <td>...</td>\n",
       "      <td>15.118165</td>\n",
       "      <td>25.168869</td>\n",
       "      <td>62.336803</td>\n",
       "      <td>203.645858</td>\n",
       "      <td>181.467579</td>\n",
       "      <td>148.671624</td>\n",
       "      <td>30.767404</td>\n",
       "      <td>70.676876</td>\n",
       "      <td>22.348801</td>\n",
       "      <td>67.988766</td>\n",
       "    </tr>\n",
       "    <tr>\n",
       "      <th>std</th>\n",
       "      <td>11331.907039</td>\n",
       "      <td>11960.425345</td>\n",
       "      <td>1384.629138</td>\n",
       "      <td>2.984649</td>\n",
       "      <td>15.694843</td>\n",
       "      <td>23.895156</td>\n",
       "      <td>4.261745</td>\n",
       "      <td>2.165058</td>\n",
       "      <td>17.756322</td>\n",
       "      <td>10.905907</td>\n",
       "      <td>...</td>\n",
       "      <td>10.177354</td>\n",
       "      <td>16.827049</td>\n",
       "      <td>25.230421</td>\n",
       "      <td>10.306285</td>\n",
       "      <td>10.293447</td>\n",
       "      <td>10.267051</td>\n",
       "      <td>9.295796</td>\n",
       "      <td>23.513114</td>\n",
       "      <td>10.846689</td>\n",
       "      <td>23.847717</td>\n",
       "    </tr>\n",
       "    <tr>\n",
       "      <th>min</th>\n",
       "      <td>7.000000</td>\n",
       "      <td>7.000000</td>\n",
       "      <td>8879.000000</td>\n",
       "      <td>1.000000</td>\n",
       "      <td>0.000000</td>\n",
       "      <td>0.000000</td>\n",
       "      <td>0.000000</td>\n",
       "      <td>0.000000</td>\n",
       "      <td>0.000000</td>\n",
       "      <td>0.000000</td>\n",
       "      <td>...</td>\n",
       "      <td>0.000000</td>\n",
       "      <td>0.000000</td>\n",
       "      <td>0.000000</td>\n",
       "      <td>157.000000</td>\n",
       "      <td>138.000000</td>\n",
       "      <td>121.000000</td>\n",
       "      <td>0.000000</td>\n",
       "      <td>0.000000</td>\n",
       "      <td>0.000000</td>\n",
       "      <td>0.000000</td>\n",
       "    </tr>\n",
       "    <tr>\n",
       "      <th>25%</th>\n",
       "      <td>5136.000000</td>\n",
       "      <td>6487.000000</td>\n",
       "      <td>10033.000000</td>\n",
       "      <td>3.000000</td>\n",
       "      <td>31.000000</td>\n",
       "      <td>51.000000</td>\n",
       "      <td>2.000000</td>\n",
       "      <td>1.000000</td>\n",
       "      <td>3.000000</td>\n",
       "      <td>24.000000</td>\n",
       "      <td>...</td>\n",
       "      <td>8.000000</td>\n",
       "      <td>14.000000</td>\n",
       "      <td>44.000000</td>\n",
       "      <td>197.000000</td>\n",
       "      <td>175.000000</td>\n",
       "      <td>142.000000</td>\n",
       "      <td>24.000000</td>\n",
       "      <td>54.000000</td>\n",
       "      <td>14.000000</td>\n",
       "      <td>51.000000</td>\n",
       "    </tr>\n",
       "    <tr>\n",
       "      <th>50%</th>\n",
       "      <td>11332.000000</td>\n",
       "      <td>12662.000000</td>\n",
       "      <td>11347.000000</td>\n",
       "      <td>4.000000</td>\n",
       "      <td>40.000000</td>\n",
       "      <td>63.000000</td>\n",
       "      <td>4.000000</td>\n",
       "      <td>2.000000</td>\n",
       "      <td>14.000000</td>\n",
       "      <td>30.000000</td>\n",
       "      <td>...</td>\n",
       "      <td>13.000000</td>\n",
       "      <td>22.000000</td>\n",
       "      <td>58.000000</td>\n",
       "      <td>203.000000</td>\n",
       "      <td>182.000000</td>\n",
       "      <td>148.000000</td>\n",
       "      <td>29.000000</td>\n",
       "      <td>66.000000</td>\n",
       "      <td>21.000000</td>\n",
       "      <td>63.000000</td>\n",
       "    </tr>\n",
       "    <tr>\n",
       "      <th>75%</th>\n",
       "      <td>21329.000000</td>\n",
       "      <td>24240.000000</td>\n",
       "      <td>12763.000000</td>\n",
       "      <td>5.000000</td>\n",
       "      <td>51.000000</td>\n",
       "      <td>82.000000</td>\n",
       "      <td>7.000000</td>\n",
       "      <td>4.000000</td>\n",
       "      <td>29.000000</td>\n",
       "      <td>37.000000</td>\n",
       "      <td>...</td>\n",
       "      <td>20.000000</td>\n",
       "      <td>32.000000</td>\n",
       "      <td>78.000000</td>\n",
       "      <td>210.000000</td>\n",
       "      <td>188.000000</td>\n",
       "      <td>155.000000</td>\n",
       "      <td>36.000000</td>\n",
       "      <td>84.000000</td>\n",
       "      <td>29.000000</td>\n",
       "      <td>82.000000</td>\n",
       "    </tr>\n",
       "    <tr>\n",
       "      <th>max</th>\n",
       "      <td>52028.000000</td>\n",
       "      <td>52129.000000</td>\n",
       "      <td>13422.000000</td>\n",
       "      <td>17.000000</td>\n",
       "      <td>181.000000</td>\n",
       "      <td>243.000000</td>\n",
       "      <td>53.000000</td>\n",
       "      <td>24.000000</td>\n",
       "      <td>128.000000</td>\n",
       "      <td>141.000000</td>\n",
       "      <td>...</td>\n",
       "      <td>90.000000</td>\n",
       "      <td>163.000000</td>\n",
       "      <td>290.000000</td>\n",
       "      <td>242.000000</td>\n",
       "      <td>211.000000</td>\n",
       "      <td>191.000000</td>\n",
       "      <td>105.000000</td>\n",
       "      <td>249.000000</td>\n",
       "      <td>85.000000</td>\n",
       "      <td>243.000000</td>\n",
       "    </tr>\n",
       "  </tbody>\n",
       "</table>\n",
       "<p>8 rows × 44 columns</p>\n",
       "</div>"
      ],
      "text/plain": [
       "                ID1           ID2          ID_T          ID_R          FS_1  \\\n",
       "count  75611.000000  75611.000000  75611.000000  75611.000000  75609.000000   \n",
       "mean   13959.548981  15796.505575  11302.224716      4.769094     42.391408   \n",
       "std    11331.907039  11960.425345   1384.629138      2.984649     15.694843   \n",
       "min        7.000000      7.000000   8879.000000      1.000000      0.000000   \n",
       "25%     5136.000000   6487.000000  10033.000000      3.000000     31.000000   \n",
       "50%    11332.000000  12662.000000  11347.000000      4.000000     40.000000   \n",
       "75%    21329.000000  24240.000000  12763.000000      5.000000     51.000000   \n",
       "max    52028.000000  52129.000000  13422.000000     17.000000    181.000000   \n",
       "\n",
       "             FSOF_1        ACES_1          DF_1         UE_1         W1S_1  \\\n",
       "count  75609.000000  74898.000000  75389.000000  5369.000000  75611.000000   \n",
       "mean      68.063736      4.813813      2.567125    18.518346     31.524130   \n",
       "std       23.895156      4.261745      2.165058    17.756322     10.905907   \n",
       "min        0.000000      0.000000      0.000000     0.000000      0.000000   \n",
       "25%       51.000000      2.000000      1.000000     3.000000     24.000000   \n",
       "50%       63.000000      4.000000      2.000000    14.000000     30.000000   \n",
       "75%       82.000000      7.000000      4.000000    29.000000     37.000000   \n",
       "max      243.000000     53.000000     24.000000   128.000000    141.000000   \n",
       "\n",
       "           ...              NA_2       NAOF_2         TPW_2       FAST_2  \\\n",
       "count      ...       2725.000000  2724.000000  75611.000000  1714.000000   \n",
       "mean       ...         15.118165    25.168869     62.336803   203.645858   \n",
       "std        ...         10.177354    16.827049     25.230421    10.306285   \n",
       "min        ...          0.000000     0.000000      0.000000   157.000000   \n",
       "25%        ...          8.000000    14.000000     44.000000   197.000000   \n",
       "50%        ...         13.000000    22.000000     58.000000   203.000000   \n",
       "75%        ...         20.000000    32.000000     78.000000   210.000000   \n",
       "max        ...         90.000000   163.000000    290.000000   242.000000   \n",
       "\n",
       "             A1S_2        A2S_2         RPW_1       RPWOF_1         RPW_2  \\\n",
       "count  1681.000000  1681.000000  75126.000000  75126.000000  75126.000000   \n",
       "mean    181.467579   148.671624     30.767404     70.676876     22.348801   \n",
       "std      10.293447    10.267051      9.295796     23.513114     10.846689   \n",
       "min     138.000000   121.000000      0.000000      0.000000      0.000000   \n",
       "25%     175.000000   142.000000     24.000000     54.000000     14.000000   \n",
       "50%     182.000000   148.000000     29.000000     66.000000     21.000000   \n",
       "75%     188.000000   155.000000     36.000000     84.000000     29.000000   \n",
       "max     211.000000   191.000000    105.000000    249.000000     85.000000   \n",
       "\n",
       "            RPWOF_2  \n",
       "count  75126.000000  \n",
       "mean      67.988766  \n",
       "std       23.847717  \n",
       "min        0.000000  \n",
       "25%       51.000000  \n",
       "50%       63.000000  \n",
       "75%       82.000000  \n",
       "max      243.000000  \n",
       "\n",
       "[8 rows x 44 columns]"
      ]
     },
     "execution_count": 5,
     "metadata": {},
     "output_type": "execute_result"
    }
   ],
   "source": [
    "stats = pd.read_csv(\"stats.csv\")\n",
    "stats.drop(stats.columns[0],axis=\"columns\", inplace=True)\n",
    "stats.describe()"
   ]
  },
  {
   "cell_type": "markdown",
   "metadata": {},
   "source": [
    "#### Tour \n",
    "\n",
    "La table tour contient de nombreuses données sur le tournoi. Seul le pays me semble un critère intéressant dans la réussite d'un joueur. "
   ]
  },
  {
   "cell_type": "code",
   "execution_count": 6,
   "metadata": {},
   "outputs": [
    {
     "data": {
      "text/html": [
       "<div>\n",
       "<style scoped>\n",
       "    .dataframe tbody tr th:only-of-type {\n",
       "        vertical-align: middle;\n",
       "    }\n",
       "\n",
       "    .dataframe tbody tr th {\n",
       "        vertical-align: top;\n",
       "    }\n",
       "\n",
       "    .dataframe thead th {\n",
       "        text-align: right;\n",
       "    }\n",
       "</style>\n",
       "<table border=\"1\" class=\"dataframe\">\n",
       "  <thead>\n",
       "    <tr style=\"text-align: right;\">\n",
       "      <th></th>\n",
       "      <th>ID_T</th>\n",
       "      <th>DATE_T</th>\n",
       "      <th>COUNTRY_T</th>\n",
       "    </tr>\n",
       "  </thead>\n",
       "  <tbody>\n",
       "    <tr>\n",
       "      <th>0</th>\n",
       "      <td>1</td>\n",
       "      <td>1997-01-01 00:00:00</td>\n",
       "      <td>AUS</td>\n",
       "    </tr>\n",
       "    <tr>\n",
       "      <th>1</th>\n",
       "      <td>2</td>\n",
       "      <td>1997-01-01 00:00:00</td>\n",
       "      <td>QAT</td>\n",
       "    </tr>\n",
       "  </tbody>\n",
       "</table>\n",
       "</div>"
      ],
      "text/plain": [
       "   ID_T               DATE_T COUNTRY_T\n",
       "0     1  1997-01-01 00:00:00       AUS\n",
       "1     2  1997-01-01 00:00:00       QAT"
      ]
     },
     "execution_count": 6,
     "metadata": {},
     "output_type": "execute_result"
    }
   ],
   "source": [
    "tour = pd.read_csv(\"tour.csv\", usecols=[\"ID_T\",\"DATE_T\",\"COUNTRY_T\"])\n",
    "tour.head(2)"
   ]
  },
  {
   "cell_type": "markdown",
   "metadata": {},
   "source": [
    "#### Test & Train \n",
    "\n",
    "Les tables test et train ont la même structure hormis la colonne resultat qui est absente pour le jeu de test. "
   ]
  },
  {
   "cell_type": "code",
   "execution_count": 7,
   "metadata": {},
   "outputs": [
    {
     "data": {
      "text/html": [
       "<div>\n",
       "<style scoped>\n",
       "    .dataframe tbody tr th:only-of-type {\n",
       "        vertical-align: middle;\n",
       "    }\n",
       "\n",
       "    .dataframe tbody tr th {\n",
       "        vertical-align: top;\n",
       "    }\n",
       "\n",
       "    .dataframe thead th {\n",
       "        text-align: right;\n",
       "    }\n",
       "</style>\n",
       "<table border=\"1\" class=\"dataframe\">\n",
       "  <thead>\n",
       "    <tr style=\"text-align: right;\">\n",
       "      <th></th>\n",
       "      <th>ID1_G</th>\n",
       "      <th>ID2_G</th>\n",
       "      <th>ID_T_G</th>\n",
       "      <th>ID_R_G</th>\n",
       "      <th>DATE_G</th>\n",
       "    </tr>\n",
       "  </thead>\n",
       "  <tbody>\n",
       "    <tr>\n",
       "      <th>0</th>\n",
       "      <td>19942</td>\n",
       "      <td>32203</td>\n",
       "      <td>13204</td>\n",
       "      <td>5</td>\n",
       "      <td>2016-05-25 00:00:00</td>\n",
       "    </tr>\n",
       "    <tr>\n",
       "      <th>1</th>\n",
       "      <td>14609</td>\n",
       "      <td>20648</td>\n",
       "      <td>12992</td>\n",
       "      <td>5</td>\n",
       "      <td>2016-06-01 00:00:00</td>\n",
       "    </tr>\n",
       "  </tbody>\n",
       "</table>\n",
       "</div>"
      ],
      "text/plain": [
       "   ID1_G  ID2_G  ID_T_G  ID_R_G               DATE_G\n",
       "0  19942  32203   13204       5  2016-05-25 00:00:00\n",
       "1  14609  20648   12992       5  2016-06-01 00:00:00"
      ]
     },
     "execution_count": 7,
     "metadata": {},
     "output_type": "execute_result"
    }
   ],
   "source": [
    "test = pd.read_csv(\"test_without_pred.csv\")\n",
    "test.head(2)"
   ]
  },
  {
   "cell_type": "code",
   "execution_count": 8,
   "metadata": {},
   "outputs": [
    {
     "data": {
      "text/html": [
       "<div>\n",
       "<style scoped>\n",
       "    .dataframe tbody tr th:only-of-type {\n",
       "        vertical-align: middle;\n",
       "    }\n",
       "\n",
       "    .dataframe tbody tr th {\n",
       "        vertical-align: top;\n",
       "    }\n",
       "\n",
       "    .dataframe thead th {\n",
       "        text-align: right;\n",
       "    }\n",
       "</style>\n",
       "<table border=\"1\" class=\"dataframe\">\n",
       "  <thead>\n",
       "    <tr style=\"text-align: right;\">\n",
       "      <th></th>\n",
       "      <th>ID1_G</th>\n",
       "      <th>ID2_G</th>\n",
       "      <th>ID_T_G</th>\n",
       "      <th>ID_R_G</th>\n",
       "      <th>RESULT_G</th>\n",
       "      <th>DATE_G</th>\n",
       "    </tr>\n",
       "  </thead>\n",
       "  <tbody>\n",
       "    <tr>\n",
       "      <th>0</th>\n",
       "      <td>17613</td>\n",
       "      <td>18854</td>\n",
       "      <td>8887</td>\n",
       "      <td>4</td>\n",
       "      <td>7-6(8) 3-6 10-7</td>\n",
       "      <td>2012-01-31 00:00:00</td>\n",
       "    </tr>\n",
       "    <tr>\n",
       "      <th>1</th>\n",
       "      <td>25192</td>\n",
       "      <td>25191</td>\n",
       "      <td>8888</td>\n",
       "      <td>4</td>\n",
       "      <td>6-3 6-2</td>\n",
       "      <td>2012-01-31 00:00:00</td>\n",
       "    </tr>\n",
       "  </tbody>\n",
       "</table>\n",
       "</div>"
      ],
      "text/plain": [
       "   ID1_G  ID2_G  ID_T_G  ID_R_G         RESULT_G               DATE_G\n",
       "0  17613  18854    8887       4  7-6(8) 3-6 10-7  2012-01-31 00:00:00\n",
       "1  25192  25191    8888       4          6-3 6-2  2012-01-31 00:00:00"
      ]
     },
     "execution_count": 8,
     "metadata": {},
     "output_type": "execute_result"
    }
   ],
   "source": [
    "train = pd.read_csv(\"train.csv\")\n",
    "train.drop(train.columns[0],axis=\"columns\", inplace=True)\n",
    "train.head(2)"
   ]
  },
  {
   "cell_type": "markdown",
   "metadata": {},
   "source": [
    "#### Merge\n",
    "\n",
    "L'idée est de rassembler les données afin de les traiter par la suite. "
   ]
  },
  {
   "cell_type": "code",
   "execution_count": 9,
   "metadata": {},
   "outputs": [
    {
     "data": {
      "text/plain": [
       "Index(['ID1_G', 'ID2_G', 'ID_T_G', 'ID_R_G', 'RESULT_G', 'DATE_G', 'ID_P_1',\n",
       "       'DATE_P_1', 'COUNTRY_P_1', 'RANK_P_1', 'ID_P_2', 'DATE_P_2',\n",
       "       'COUNTRY_P_2', 'RANK_P_2', 'DATE_R_1', 'ID_P_R_1', 'POINT_R_1',\n",
       "       'POS_R_1', 'DATE_R_2', 'ID_P_R_2', 'POINT_R_2', 'POS_R_2', 'ID_T_x',\n",
       "       'DATE_T', 'COUNTRY_T', 'ID1', 'ID2', 'ID_T_y', 'ID_R', 'FS_1', 'FSOF_1',\n",
       "       'ACES_1', 'DF_1', 'UE_1', 'W1S_1', 'W1SOF_1', 'W2S_1', 'W2SOF_1',\n",
       "       'WIS_1', 'BP_1', 'BPOF_1', 'NA_1', 'NAOF_1', 'TPW_1', 'FAST_1', 'A1S_1',\n",
       "       'A2S_1', 'FS_2', 'FSOF_2', 'ACES_2', 'DF_2', 'UE_2', 'W1S_2', 'W1SOF_2',\n",
       "       'W2S_2', 'W2SOF_2', 'WIS_2', 'BP_2', 'BPOF_2', 'NA_2', 'NAOF_2',\n",
       "       'TPW_2', 'FAST_2', 'A1S_2', 'A2S_2', 'RPW_1', 'RPWOF_1', 'RPW_2',\n",
       "       'RPWOF_2', 'MT'],\n",
       "      dtype='object')"
      ]
     },
     "execution_count": 9,
     "metadata": {},
     "output_type": "execute_result"
    }
   ],
   "source": [
    "def merge_data(df) : \n",
    "    # on ajoute le joueur 1\n",
    "    df = pd.merge(df, players, how='left', left_on=['ID1_G'], right_on=['ID_P'])\n",
    "    df.columns = df.columns.map(lambda x: x + \"_1\" if x in players.columns else x)\n",
    "\n",
    "    # le joueur 2 \n",
    "    df = pd.merge(df, players, how='left', left_on=['ID2_G'], right_on=['ID_P'])\n",
    "    df.columns = df.columns.map(lambda x: x + \"_2\" if x in players.columns else x)\n",
    "\n",
    "    # les données du classement \n",
    "    df =  pd.merge(df, player_rates, how='left', left_on=['DATE_G','ID1_G'], right_on=['DATE_R','ID_P_R'])\n",
    "    df.columns = df.columns.map(lambda x: x + \"_1\" if x in player_rates.columns else x)\n",
    "    df =  pd.merge(df, player_rates, how='left', left_on=['DATE_G','ID2_G'], right_on=['DATE_R','ID_P_R'])\n",
    "    df.columns = df.columns.map(lambda x: x + \"_2\" if x in player_rates.columns else x)\n",
    "\n",
    "    # le tournoi\n",
    "    df =  pd.merge(df, tour, how='left', left_on=['ID_T_G'], right_on=['ID_T'])\n",
    "\n",
    "    # stats\n",
    "    df = pd.merge(df, stats, how='left', left_on=['ID_T_G','ID1_G','ID2_G',\"ID_R_G\"], right_on=['ID_T',\"ID1\",\"ID2\",\"ID_R\"])\n",
    "    return df \n",
    "\n",
    "merged_train = merge_data(train)\n",
    "merged_test = merge_data(test)\n",
    "\n",
    "merged_train.columns"
   ]
  },
  {
   "cell_type": "markdown",
   "metadata": {},
   "source": [
    "# II. Nettoyage des données  <a id=\"titre2\"></a>\n",
    "\n",
    "On retire d'abord les données que nous avons en double avec les merges ou qui sont inutiles à l'apprentissage. "
   ]
  },
  {
   "cell_type": "code",
   "execution_count": 10,
   "metadata": {},
   "outputs": [],
   "source": [
    "# supprime les doublons et colonne ID non utiles \n",
    "def delete_double(df) :\n",
    "    df.drop([\"ID1\",\"ID2\",\"ID_P_1\",\"ID_P_2\",'DATE_R_1',\"DATE_T\",'ID_P_R_1','DATE_R_2','ID_P_R_2','ID_T_x',\"ID_T_y\",\"ID_R\"],axis=\"columns\",inplace=True)\n",
    "    \n",
    "delete_double(merged_train)\n",
    "delete_double(merged_test)"
   ]
  },
  {
   "cell_type": "markdown",
   "metadata": {},
   "source": [
    "Nous allons étudié le type des différentes données ainsi que le nombre de valeurs nulles et leur valeur sémantique. Par exemple la variable MT donne le temps au format DATE du mi-temps. Il serait plus intéressante de l'avoir au format secondes. \n",
    "De plus, il va falloir normaliser les valeurs numériques, étudier les variables catégorielles..."
   ]
  },
  {
   "cell_type": "code",
   "execution_count": 11,
   "metadata": {},
   "outputs": [],
   "source": [
    "from datetime import datetime,date\n",
    "from datetime import timedelta\n",
    "\n",
    "def to_seconds(t):\n",
    "     return int(timedelta(hours=t.hour, minutes=t.minute, seconds=t.second).total_seconds()) \n",
    "\n",
    "players[\"DATE_P\"] = players[\"DATE_P\"].apply(lambda x : date.today().year- datetime.strptime(x,'%Y-%m-%d 00:00:00').year if isinstance(x,str) else None)\n",
    "players[\"DATE_P\"].fillna(np.mean(players[\"DATE_P\"]),inplace=True)\n",
    "\n",
    "def refactor_dates(df):\n",
    "    # age joueur 1\n",
    "    df[\"DATE_P_1\"] = df[\"DATE_P_1\"].apply(lambda x : date.today().year- datetime.strptime(x,'%Y-%m-%d 00:00:00').year if isinstance(x,str) else None  )\n",
    "    df[\"DATE_P_1\"].fillna(np.mean(players[\"DATE_P\"]),inplace=True)\n",
    "    \n",
    "    # age joueur 2\n",
    "    df[\"DATE_P_2\"] = df[\"DATE_P_2\"].apply(lambda x : date.today().year- datetime.strptime(x,'%Y-%m-%d 00:00:00').year if isinstance(x,str) else None  )\n",
    "    df[\"DATE_P_2\"].fillna(np.mean(players[\"DATE_P\"]),inplace=True)\n",
    "\n",
    "    # temps mi-temps\n",
    "    df[\"MT\"] = df[\"MT\"].apply(lambda x : to_seconds(datetime.strptime(x,'%Y-%m-%d %H:%M:%S')) if isinstance(x,str) else np.NaN )\n",
    "    df[\"MT\"].fillna(np.nanmean(df[\"MT\"]),inplace=True)\n",
    "\n",
    "refactor_dates(merged_test)\n",
    "refactor_dates(merged_train)"
   ]
  },
  {
   "cell_type": "markdown",
   "metadata": {},
   "source": [
    "On remarque que la date du tournoi peut aussi être intéressante, des joueurs peuvent être en meilleure condition à certaines dates. Nous devons la transformer. Pour cela nous séparons l'année et le mois. Les dates de test sont uniquement en 2016, il ne faut pas oublier de mettre des valeurs nulles aux autres colonnes des années précédantes. En effet, peut-être que des joueurs étaient bon à certaines années. "
   ]
  },
  {
   "cell_type": "code",
   "execution_count": 12,
   "metadata": {},
   "outputs": [],
   "source": [
    "# date, on garde l'heure et le mois et on fait des données catégorielles\n",
    "merged_train[\"YEAR\"] = merged_train[\"DATE_G\"].apply(lambda x : datetime.strptime(x,'%Y-%m-%d 00:00:00').year if isinstance(x,str) else np.NaN  )\n",
    "merged_test[\"YEAR\"] = merged_train[\"DATE_G\"].apply(lambda x : datetime.strptime(x,'%Y-%m-%d 00:00:00').year if isinstance(x,str) else np.NaN  )\n",
    "merged_train[\"MONTH\"] = merged_train[\"DATE_G\"].apply(lambda x : datetime.strptime(x,'%Y-%m-%d 00:00:00').month if isinstance(x,str) else np.NaN  )\n",
    "merged_test[\"MONTH\"] = merged_test[\"DATE_G\"].apply(lambda x : datetime.strptime(x,'%Y-%m-%d 00:00:00').month if isinstance(x,str) else np.NaN  )\n",
    "\n",
    "# categorise YEAR pour train set \n",
    "merged_train[\"YEAR\"] = merged_train[\"YEAR\"].astype('category')\n",
    "year_labels = merged_train[\"YEAR\"].cat.categories.tolist() \n",
    "newdf = pd.DataFrame([merged_train[\"YEAR\"].cat.codes]).transpose()\n",
    "\n",
    "from sklearn.preprocessing import OneHotEncoder\n",
    "\n",
    "# on fait un one to many pour binariser la variable catégorielle\n",
    "newdf=pd.DataFrame(OneHotEncoder().fit_transform(newdf).toarray())\n",
    "# on remet les noms des années\n",
    "newdf.columns = [str(x) for x in year_labels]\n",
    "# on rajoute au dataset \n",
    "merged_train = pd.concat([merged_train,newdf],axis=1, join='inner')\n",
    "\n",
    "# pour le data test on ajoute simplement 4 colonnes à 0 et 2016 à 1 \n",
    "for i in range (2012,2016) : \n",
    "    merged_test[str(i)]=0\n",
    "merged_test[\"2016\"]=1\n",
    "\n",
    "# De même pour les mois \n",
    "def categorise_mois(df):\n",
    "    newdf = pd.DataFrame([df[\"MONTH\"]]).transpose()\n",
    "    newdf = pd.DataFrame(OneHotEncoder().fit_transform(newdf).toarray())\n",
    "    newdf.columns = [\"month_\" + str(x) for x in newdf.columns ]\n",
    "    df = pd.concat([df,newdf],axis=1, join='inner')\n",
    "\n",
    "\n",
    "categorise_mois(merged_train)\n",
    "categorise_mois(merged_test)"
   ]
  },
  {
   "cell_type": "code",
   "execution_count": 13,
   "metadata": {},
   "outputs": [],
   "source": [
    "def remove_useless_cols(df):\n",
    "    df.drop([\"DATE_G\",\"YEAR\",\"MONTH\"],axis=\"columns\",inplace=True)\n",
    "    \n",
    "remove_useless_cols(merged_train)\n",
    "remove_useless_cols(merged_test)"
   ]
  },
  {
   "cell_type": "markdown",
   "metadata": {},
   "source": [
    "Le pays est aussi une données catégorielle. Il y a 175 pays disponibles et nous avons 2 données de types pays : joueur1 et joueur2. Nous allons tout de même créer ces variables binaires mais nous utiliserons une méthode de sélection de variables par la suite. \n",
    "\n",
    "Tout d'abord notons qu'un joueur qui joue dans son pays n'a pas de temps de transport qui pourrait le fatiguer. On va donc noter si le joueur joue dans son pays ou non."
   ]
  },
  {
   "cell_type": "code",
   "execution_count": 14,
   "metadata": {},
   "outputs": [],
   "source": [
    "def pays_faveur_gagnant(df):\n",
    "    df[\"COUNTRY_FAVOR_1\"]=  df.apply(lambda row: 1 if row[\"COUNTRY_P_1\"]==row[\"COUNTRY_T\"] else 0 , axis=1) \n",
    "    df[\"COUNTRY_FAVOR_2\"]=  df.apply(lambda row: 1 if row[\"COUNTRY_P_2\"]==row[\"COUNTRY_T\"] else 0 , axis=1) \n",
    "\n",
    "pays_faveur_gagnant(merged_train)\n",
    "pays_faveur_gagnant(merged_test)\n"
   ]
  },
  {
   "cell_type": "markdown",
   "metadata": {},
   "source": [
    "Pour la catégorisation des pays, le datatest et le datatrain doivent avoir les mêmes colones donc on récupère bien tous les pays des joueurs possibles pour les deux colonnes \"COUNTRY_P_i\" de chacune des tables."
   ]
  },
  {
   "cell_type": "code",
   "execution_count": 15,
   "metadata": {},
   "outputs": [],
   "source": [
    "# on récupère tous les pays possible\n",
    "players[\"COUNTRY_P\"].fillna(\"null\",inplace=True)\n",
    "players[\"COUNTRY_P\"] = players[\"COUNTRY_P\"].astype('category')\n",
    "total_pays = players[\"COUNTRY_P\"].cat.categories.tolist() "
   ]
  },
  {
   "cell_type": "code",
   "execution_count": 16,
   "metadata": {},
   "outputs": [],
   "source": [
    "def categorise_pays(df):\n",
    "    for i in [\"COUNTRY_P_1\",\"COUNTRY_P_2\"] : \n",
    "        df[i].fillna(\"null\",inplace=True)\n",
    "        df[i] = df[i].astype('category')\n",
    "        P_i_pays = df[i].cat.categories.tolist() \n",
    "        miss_P_i = [ x for x in total_pays if x not in P_i_pays ]\n",
    "        newdf = pd.DataFrame([df[i].cat.codes]).transpose()\n",
    "        \n",
    "        newdf=pd.DataFrame(OneHotEncoder().fit_transform(newdf).toarray())\n",
    "        newdf.columns = [ \"Country_\"+i+\"_\"+x for x in P_i_pays] \n",
    "        df = pd.concat([df,newdf],axis=1, join='inner')\n",
    "        \n",
    "        # les pays qui ne sont pas dans la colonne\n",
    "        for pays in miss_P_i : \n",
    "            df[\"Country_\"+i+\"_\"+pays]=0\n",
    "    return df\n",
    "            \n",
    "train = categorise_pays(merged_train)\n",
    "test = categorise_pays(merged_test)"
   ]
  },
  {
   "cell_type": "code",
   "execution_count": 17,
   "metadata": {},
   "outputs": [],
   "source": [
    "test.drop([\"COUNTRY_T\",\"COUNTRY_P_1\",\"COUNTRY_P_2\"], axis=\"columns\",inplace=True)\n",
    "train.drop([\"COUNTRY_T\",\"COUNTRY_P_1\",\"COUNTRY_P_2\"],axis=\"columns\", inplace=True)"
   ]
  },
  {
   "cell_type": "markdown",
   "metadata": {},
   "source": [
    "Pour toutes les colonnes statistiques null, on suppose que la valeur vaut 0 et n'a pas été remplie vu que c'est des données de types \"combien de points a-t-il eu pour telle condition\". "
   ]
  },
  {
   "cell_type": "code",
   "execution_count": 18,
   "metadata": {},
   "outputs": [],
   "source": [
    "def stats_null_values(df):\n",
    "    for col in stats.columns :\n",
    "        if col in df.columns : \n",
    "            df[col].fillna(0,inplace=True)\n",
    "\n",
    "stats_null_values(test)\n",
    "stats_null_values(train)"
   ]
  },
  {
   "cell_type": "markdown",
   "metadata": {},
   "source": [
    "Les données de classement des joueurs utilisent la même idée. Si un joueur n'est pas classé alors on peut lui donner le classement le plus nul. "
   ]
  },
  {
   "cell_type": "code",
   "execution_count": 19,
   "metadata": {},
   "outputs": [],
   "source": [
    "def rank_point_pos(df):\n",
    "    for i in [1,2]:\n",
    "        i=str(i)\n",
    "        # si pas de rang, on met un plus élevé que le max\n",
    "        df[\"RANK_P_\"+i].fillna(np.max(df[\"RANK_P_\"+i]),inplace=True)\n",
    "        \n",
    "        # si pas de points => 0 \n",
    "        df[\"POINT_R_\"+i].fillna(0,inplace=True)\n",
    "        \n",
    "        # pos max aussi\n",
    "        df[\"POS_R_\"+i].fillna(np.max(df[\"POS_R_\"+i]),inplace=True)\n",
    "        \n",
    "rank_point_pos(test)\n",
    "rank_point_pos(train)"
   ]
  },
  {
   "cell_type": "markdown",
   "metadata": {},
   "source": [
    "On vérifie qu'il n'y a plus de colonnes contenant des valeurs nulles dans nos deux jeux de données. On vérifie que nos deux jeux de données ont bien les même colonnes. "
   ]
  },
  {
   "cell_type": "code",
   "execution_count": 20,
   "metadata": {},
   "outputs": [
    {
     "name": "stdout",
     "output_type": "stream",
     "text": [
      "RESULT_G\n"
     ]
    }
   ],
   "source": [
    "for col in train.columns:\n",
    "    if train[col].isnull().sum() :\n",
    "        print (col)\n",
    "        \n",
    "for col in test.columns:\n",
    "    if test[col].isnull().sum() :\n",
    "        print (col)\n",
    "        \n",
    "for name in train.columns :\n",
    "    if name not in test.columns:\n",
    "        print(name)"
   ]
  },
  {
   "cell_type": "markdown",
   "metadata": {},
   "source": [
    "On retire les colonnes qui sont constantes dans le dataTrain car elles n'apporteront rien à l'apprentissage : "
   ]
  },
  {
   "cell_type": "code",
   "execution_count": 21,
   "metadata": {},
   "outputs": [
    {
     "name": "stdout",
     "output_type": "stream",
     "text": [
      "(73366, 292)\n",
      "(6097, 292)\n"
     ]
    }
   ],
   "source": [
    "train_less_result = train.drop([\"RESULT_G\"],axis=\"columns\")\n",
    "result = train[\"RESULT_G\"]\n",
    "\n",
    "# si la colonne a une seule et unique valeur dans sa colonne\n",
    "train_less_result = train_less_result.loc[:,train_less_result.apply(pd.Series.nunique) != 1]\n",
    "test = test.loc[:,train_less_result.columns]\n",
    "\n",
    "print(train_less_result.shape)\n",
    "print(test.shape)\n"
   ]
  },
  {
   "cell_type": "markdown",
   "metadata": {},
   "source": [
    "Il faut maintenant normaliser les données :"
   ]
  },
  {
   "cell_type": "code",
   "execution_count": 22,
   "metadata": {},
   "outputs": [],
   "source": [
    "from sklearn.preprocessing import MinMaxScaler\n",
    "\n",
    "# on normalise les données test sur la même echelle que les données train\n",
    "df_total= pd.concat([test, train_less_result], axis=\"rows\")\n",
    "    \n",
    "# normalise les données entre 0 et 1\n",
    "scaler = MinMaxScaler()\n",
    "# on ne normalise pas les ids \n",
    "normalized_df = scaler.fit_transform(df_total[df_total.columns[4:]])\n",
    "normalized_df = pd.DataFrame(normalized_df)\n",
    "normalized_df.columns = df_total.columns[4:]\n",
    "df = pd.concat([df_total[df_total.columns[:4]],normalized_df] ,axis=1, join='inner')"
   ]
  },
  {
   "cell_type": "markdown",
   "metadata": {},
   "source": [
    "On sépare les données test et train à nouveau : "
   ]
  },
  {
   "cell_type": "code",
   "execution_count": 23,
   "metadata": {},
   "outputs": [
    {
     "name": "stdout",
     "output_type": "stream",
     "text": [
      "(73366, 292)\n",
      "(6097, 292)\n"
     ]
    }
   ],
   "source": [
    "test = df[:test.shape[0]]\n",
    "train = df[test.shape[0]:]\n",
    "\n",
    "print(train.shape)\n",
    "print(test.shape)"
   ]
  },
  {
   "cell_type": "markdown",
   "metadata": {},
   "source": [
    "Ensuite on se dit que lors de l'entrainement du modèle, si le joueur 1 a gagné contre le joueur 2 alors le joueur 2 a perdu contre le joueur1. Je décide alors de doubler mon jeu de données en rajoutant les lignes contraires."
   ]
  },
  {
   "cell_type": "code",
   "execution_count": 24,
   "metadata": {},
   "outputs": [
    {
     "name": "stderr",
     "output_type": "stream",
     "text": [
      "/home/boltenhagen/.local/lib/python3.5/site-packages/ipykernel_launcher.py:2: SettingWithCopyWarning: \n",
      "A value is trying to be set on a copy of a slice from a DataFrame.\n",
      "Try using .loc[row_indexer,col_indexer] = value instead\n",
      "\n",
      "See the caveats in the documentation: http://pandas.pydata.org/pandas-docs/stable/indexing.html#indexing-view-versus-copy\n",
      "  \n"
     ]
    },
    {
     "data": {
      "text/plain": [
       "(73366, 293)"
      ]
     },
     "execution_count": 24,
     "metadata": {},
     "output_type": "execute_result"
    }
   ],
   "source": [
    "# le joueur 1 gagne ici\n",
    "train[\"RESULT\"]=1\n",
    "train.shape"
   ]
  },
  {
   "cell_type": "code",
   "execution_count": 25,
   "metadata": {},
   "outputs": [],
   "source": [
    "# on inverse les données des joueurs \n",
    "columns_1 = [ x for x in train.columns if ( \"1\" in x and x not in [\"2012\",\"2013\",\"2014\",\"2015\",\"2016\",'W1S_2','W1SOF_2','A1S_2'] )]\n",
    "columns_2 = [ x for x  in train.columns if \"2\" in x and x not in [\"2012\",\"2013\",\"2014\",\"2015\",\"2016\",\"W2S_1\",\"W2SOF_1\",\"A2S_1\"]]\n",
    "other_columns = [ x for x in train.columns if (\"2\" not in x and \"1\" not in x) or x in [\"2012\",\"2013\",\"2014\",\"2015\",\"2016\"]]\n",
    "\n",
    "df_1 = train[columns_1]\n",
    "df_1.columns = [ x.replace(\"_1\",\"_2\") for x in columns_1]\n",
    "df_1.columns.values[0]= \"ID2_G\"\n",
    "df_2 = train[columns_2]\n",
    "df_2.columns =  [ x.replace(\"_2\",\"_1\") for x in columns_2]\n",
    "df_2.columns.values[0]= \"ID1_G\"\n",
    "\n",
    "new_rows = pd.concat([df_1,df_2,train[other_columns]],axis=\"columns\",join=\"inner\")\n",
    "# le joueur 1 perd ici\n",
    "new_rows[\"RESULT\"]=0\n",
    "\n",
    "# avec la suppression des valeurs constantes, certaines colonnes ont été supprimé. on adapte new_rows\n",
    "for col in train.columns :\n",
    "    if col not in new_rows.columns : \n",
    "        new_rows[col]=0\n",
    "\n",
    "for col in new_rows.columns :\n",
    "    if col not in train.columns :\n",
    "        new_rows.drop([col],inplace=True,axis=\"columns\")\n",
    "\n",
    "# ordonner \n",
    "new_rows = new_rows[train.columns]"
   ]
  },
  {
   "cell_type": "code",
   "execution_count": 26,
   "metadata": {},
   "outputs": [
    {
     "data": {
      "text/plain": [
       "(146732, 293)"
      ]
     },
     "execution_count": 26,
     "metadata": {},
     "output_type": "execute_result"
    }
   ],
   "source": [
    "# on double ainsi le jeu de données\n",
    "double_train = pd.concat([train,new_rows],axis=\"rows\")\n",
    "double_train.shape"
   ]
  },
  {
   "cell_type": "markdown",
   "metadata": {},
   "source": [
    "# III. Sélection de variables  <a id=\"titre3\"></a>\n",
    "On a maintenant beaucoup de colonnes et nous allons essayer d'en retirer un certain nombre avec la méthode du **RandomForest** qui permet de mettre en valeur les anomalies mais aussi d'ordonner les features. "
   ]
  },
  {
   "cell_type": "code",
   "execution_count": 27,
   "metadata": {},
   "outputs": [
    {
     "data": {
      "text/plain": [
       "<matplotlib.figure.Figure at 0x7f2a9206bbe0>"
      ]
     },
     "metadata": {},
     "output_type": "display_data"
    }
   ],
   "source": [
    "from sklearn.ensemble import RandomForestClassifier\n",
    "import matplotlib.pyplot as plt\n",
    "\n",
    "# on sépare la réponse\n",
    "X = double_train.drop([\"RESULT\"],axis=\"columns\")\n",
    "Y = double_train[\"RESULT\"]\n",
    "\n",
    "# on entraine le modèle\n",
    "clf = RandomForestClassifier()\n",
    "clf.fit(X, Y)\n",
    "importances=clf.feature_importances_\n",
    "\n",
    "# on affiche l'importance des variables\n",
    "sorted_idx = np.argsort(importances)[::-1]\n",
    "features =np.arange(1, X.shape[1]+1)\n",
    "padding = np.arange(X.size/len(X)) + 0.5\n",
    "plt.barh(padding, importances[sorted_idx], align='center')\n",
    "plt.yticks(padding, features[sorted_idx])\n",
    "plt.xlabel(\"Relative Importance\")\n",
    "plt.title(\"Variable Importance\")\n",
    "plt.show()"
   ]
  },
  {
   "cell_type": "markdown",
   "metadata": {},
   "source": [
    "On remarque qu'environ 1 sixième des variables est intéressant."
   ]
  },
  {
   "cell_type": "code",
   "execution_count": 28,
   "metadata": {},
   "outputs": [
    {
     "name": "stdout",
     "output_type": "stream",
     "text": [
      "['POS_R_1', 'POS_R_2', 'BP_2', 'DATE_P_1', 'BP_1', 'BPOF_1', 'ID_T_G', 'DATE_P_2', 'ACES_2', 'BPOF_2', 'TPW_2', 'TPW_1', 'RPW_1', '2016', 'W1S_1', 'FS_2', 'W1S_2', 'RPW_2', 'W1SOF_1', 'W1SOF_2', 'W2SOF_2', 'RPWOF_2', 'ACES_1', 'FSOF_1', 'POINT_R_2', 'POINT_R_1', 'RPWOF_1', 'MT', 'W2S_1', 'RANK_P_1', 'FS_1', 'FSOF_2', 'W2S_2', 'ID1_G', 'RANK_P_2', 'Country_COUNTRY_P_2_null', 'DF_1', 'W2SOF_1', 'ID2_G', 'Country_COUNTRY_P_1_null', 'DF_2', '2012', '2015', '2014', '2013', 'ID_R_G', 'WIS_2', 'WIS_1']\n"
     ]
    }
   ],
   "source": [
    "# on note les variables à garder \n",
    "keep_first_columns = sorted_idx[:int(len(sorted_idx)/6)]\n",
    "keep_first_columns_names = [X.columns.values[i] for i in keep_first_columns ]\n",
    "print(keep_first_columns_names)"
   ]
  },
  {
   "cell_type": "code",
   "execution_count": 29,
   "metadata": {},
   "outputs": [
    {
     "data": {
      "image/png": "[encoded data removed]",
      "text/plain": [
       "<matplotlib.figure.Figure at 0x7f2aa4276c50>"
      ]
     },
     "metadata": {},
     "output_type": "display_data"
    }
   ],
   "source": [
    "# on revisualise l'importance des variables\n",
    "X_first = X[keep_first_columns_names]\n",
    "\n",
    "features =np.arange(1, X.shape[1]+1)\n",
    "padding = np.arange(X_first.size/len(X_first)) + 0.5\n",
    "plt.barh(padding, importances[keep_first_columns], align='center')\n",
    "plt.yticks(padding, features[keep_first_columns])\n",
    "plt.xlabel(\"Relative Importance\")\n",
    "plt.title(\"Variable Importance\")\n",
    "plt.show()"
   ]
  },
  {
   "cell_type": "markdown",
   "metadata": {},
   "source": [
    "On fait suivre le data test :"
   ]
  },
  {
   "cell_type": "code",
   "execution_count": 30,
   "metadata": {},
   "outputs": [],
   "source": [
    "X_test_first = test[keep_first_columns_names]"
   ]
  },
  {
   "cell_type": "markdown",
   "metadata": {},
   "source": [
    "# IV. Création de modèles <a id=\"titre4\"></a>\n",
    "\n",
    "On va lancer plusieurs modèles pour voir lequel est le plus pertinent. Nous utilisons pour cela \"cross_val_score\" qui permet de faire une cross validation, crée un data test/train dans le jeu de données et permet différents types de scores. Ici nous utiliserons l'accuracy. \n"
   ]
  },
  {
   "cell_type": "code",
   "execution_count": 33,
   "metadata": {},
   "outputs": [
    {
     "ename": "MemoryError",
     "evalue": "",
     "output_type": "error",
     "traceback": [
      "\u001b[0;31m---------------------------------------------------------------------------\u001b[0m",
      "\u001b[0;31mMemoryError\u001b[0m                               Traceback (most recent call last)",
      "\u001b[0;32m<ipython-input-33-98372d0097a2>\u001b[0m in \u001b[0;36m<module>\u001b[0;34m()\u001b[0m\n\u001b[1;32m     28\u001b[0m \u001b[0;34m\u001b[0m\u001b[0m\n\u001b[1;32m     29\u001b[0m \u001b[0;31m#get_scores(clfs,X_first,Y)\u001b[0m\u001b[0;34m\u001b[0m\u001b[0;34m\u001b[0m\u001b[0m\n\u001b[0;32m---> 30\u001b[0;31m \u001b[0maf\u001b[0m \u001b[0;34m=\u001b[0m \u001b[0mAffinityPropagation\u001b[0m\u001b[0;34m(\u001b[0m\u001b[0;34m)\u001b[0m\u001b[0;34m.\u001b[0m\u001b[0mfit\u001b[0m\u001b[0;34m(\u001b[0m\u001b[0mX_first\u001b[0m\u001b[0;34m)\u001b[0m\u001b[0;34m\u001b[0m\u001b[0m\n\u001b[0m",
      "\u001b[0;32m/usr/local/lib/python3.5/dist-packages/sklearn/cluster/affinity_propagation_.py\u001b[0m in \u001b[0;36mfit\u001b[0;34m(self, X, y)\u001b[0m\n\u001b[1;32m    296\u001b[0m             \u001b[0mself\u001b[0m\u001b[0;34m.\u001b[0m\u001b[0maffinity_matrix_\u001b[0m \u001b[0;34m=\u001b[0m \u001b[0mX\u001b[0m\u001b[0;34m\u001b[0m\u001b[0m\n\u001b[1;32m    297\u001b[0m         \u001b[0;32melif\u001b[0m \u001b[0mself\u001b[0m\u001b[0;34m.\u001b[0m\u001b[0maffinity\u001b[0m \u001b[0;34m==\u001b[0m \u001b[0;34m\"euclidean\"\u001b[0m\u001b[0;34m:\u001b[0m\u001b[0;34m\u001b[0m\u001b[0m\n\u001b[0;32m--> 298\u001b[0;31m             \u001b[0mself\u001b[0m\u001b[0;34m.\u001b[0m\u001b[0maffinity_matrix_\u001b[0m \u001b[0;34m=\u001b[0m \u001b[0;34m-\u001b[0m\u001b[0meuclidean_distances\u001b[0m\u001b[0;34m(\u001b[0m\u001b[0mX\u001b[0m\u001b[0;34m,\u001b[0m \u001b[0msquared\u001b[0m\u001b[0;34m=\u001b[0m\u001b[0;32mTrue\u001b[0m\u001b[0;34m)\u001b[0m\u001b[0;34m\u001b[0m\u001b[0m\n\u001b[0m\u001b[1;32m    299\u001b[0m         \u001b[0;32melse\u001b[0m\u001b[0;34m:\u001b[0m\u001b[0;34m\u001b[0m\u001b[0m\n\u001b[1;32m    300\u001b[0m             raise ValueError(\"Affinity must be 'precomputed' or \"\n",
      "\u001b[0;32m/usr/local/lib/python3.5/dist-packages/sklearn/metrics/pairwise.py\u001b[0m in \u001b[0;36meuclidean_distances\u001b[0;34m(X, Y, Y_norm_squared, squared, X_norm_squared)\u001b[0m\n\u001b[1;32m    244\u001b[0m         \u001b[0mYY\u001b[0m \u001b[0;34m=\u001b[0m \u001b[0mrow_norms\u001b[0m\u001b[0;34m(\u001b[0m\u001b[0mY\u001b[0m\u001b[0;34m,\u001b[0m \u001b[0msquared\u001b[0m\u001b[0;34m=\u001b[0m\u001b[0;32mTrue\u001b[0m\u001b[0;34m)\u001b[0m\u001b[0;34m[\u001b[0m\u001b[0mnp\u001b[0m\u001b[0;34m.\u001b[0m\u001b[0mnewaxis\u001b[0m\u001b[0;34m,\u001b[0m \u001b[0;34m:\u001b[0m\u001b[0;34m]\u001b[0m\u001b[0;34m\u001b[0m\u001b[0m\n\u001b[1;32m    245\u001b[0m \u001b[0;34m\u001b[0m\u001b[0m\n\u001b[0;32m--> 246\u001b[0;31m     \u001b[0mdistances\u001b[0m \u001b[0;34m=\u001b[0m \u001b[0msafe_sparse_dot\u001b[0m\u001b[0;34m(\u001b[0m\u001b[0mX\u001b[0m\u001b[0;34m,\u001b[0m \u001b[0mY\u001b[0m\u001b[0;34m.\u001b[0m\u001b[0mT\u001b[0m\u001b[0;34m,\u001b[0m \u001b[0mdense_output\u001b[0m\u001b[0;34m=\u001b[0m\u001b[0;32mTrue\u001b[0m\u001b[0;34m)\u001b[0m\u001b[0;34m\u001b[0m\u001b[0m\n\u001b[0m\u001b[1;32m    247\u001b[0m     \u001b[0mdistances\u001b[0m \u001b[0;34m*=\u001b[0m \u001b[0;34m-\u001b[0m\u001b[0;36m2\u001b[0m\u001b[0;34m\u001b[0m\u001b[0m\n\u001b[1;32m    248\u001b[0m     \u001b[0mdistances\u001b[0m \u001b[0;34m+=\u001b[0m \u001b[0mXX\u001b[0m\u001b[0;34m\u001b[0m\u001b[0m\n",
      "\u001b[0;32m/usr/local/lib/python3.5/dist-packages/sklearn/utils/extmath.py\u001b[0m in \u001b[0;36msafe_sparse_dot\u001b[0;34m(a, b, dense_output)\u001b[0m\n\u001b[1;32m    138\u001b[0m         \u001b[0;32mreturn\u001b[0m \u001b[0mret\u001b[0m\u001b[0;34m\u001b[0m\u001b[0m\n\u001b[1;32m    139\u001b[0m     \u001b[0;32melse\u001b[0m\u001b[0;34m:\u001b[0m\u001b[0;34m\u001b[0m\u001b[0m\n\u001b[0;32m--> 140\u001b[0;31m         \u001b[0;32mreturn\u001b[0m \u001b[0mnp\u001b[0m\u001b[0;34m.\u001b[0m\u001b[0mdot\u001b[0m\u001b[0;34m(\u001b[0m\u001b[0ma\u001b[0m\u001b[0;34m,\u001b[0m \u001b[0mb\u001b[0m\u001b[0;34m)\u001b[0m\u001b[0;34m\u001b[0m\u001b[0m\n\u001b[0m\u001b[1;32m    141\u001b[0m \u001b[0;34m\u001b[0m\u001b[0m\n\u001b[1;32m    142\u001b[0m \u001b[0;34m\u001b[0m\u001b[0m\n",
      "\u001b[0;31mMemoryError\u001b[0m: "
     ]
    }
   ],
   "source": [
    "from sklearn.naive_bayes import GaussianNB\n",
    "from sklearn.ensemble import RandomForestClassifier, BaggingClassifier, AdaBoostClassifier\n",
    "from sklearn.neighbors import KNeighborsClassifier\n",
    "from sklearn.model_selection import KFold, cross_val_score, train_test_split\n",
    "from sklearn.tree import DecisionTreeClassifier\n",
    "from sklearn.neural_network import MLPClassifier\n",
    "\n",
    "from sklearn.cluster import AffinityPropagation\n",
    "\n",
    "clfs = {\n",
    "'NBS': GaussianNB(),\n",
    "'CART' : DecisionTreeClassifier(), # pas de paramètre car CART par défaut\n",
    "'ID3' : DecisionTreeClassifier(criterion='entropy'),\n",
    "'STUMP' : DecisionTreeClassifier(max_depth=1),\n",
    "'MLP': MLPClassifier(hidden_layer_sizes=(20,10)),\n",
    "'KNN': KNeighborsClassifier(n_neighbors=10),\n",
    "'BAG': BaggingClassifier(n_estimators=50),\n",
    "'ADAB' : AdaBoostClassifier(n_estimators=50),\n",
    "'RF': RandomForestClassifier(n_estimators=50)\n",
    "}\n",
    "\n",
    "def get_scores(dico, X,Y):\n",
    "    for i in clfs:\n",
    "        clf = clfs[i] \n",
    "        cv_acc = cross_val_score(clf, X, Y, cv=10)#pour le calcul de l’accuracy\n",
    "        print(\"Accuracy for {0} is: {1:.3f} +/-{2:.3f}\".format(i,np.mean(cv_acc), np.std(cv_acc)))\n",
    "        print()\n",
    "    \n",
    "#get_scores(clfs,X_first,Y)\n",
    "af = AffinityPropagation().fit(X_first)"
   ]
  },
  {
   "cell_type": "markdown",
   "metadata": {},
   "source": [
    "On a déjà des modèles très intéressants. Les résultats semblent logiques car le KNN n'est pas pertinent avec des ID comme le MLP. De plus, suite à mes anciennes études, j'ai remarqué que le RandomForestClassifier était très souvent dans les premiers pertients. C'est donc celui ci que nous retenons. \n",
    "\n",
    "On teste un nombre d'estimateurs plus grands. "
   ]
  },
  {
   "cell_type": "code",
   "execution_count": 32,
   "metadata": {},
   "outputs": [
    {
     "name": "stdout",
     "output_type": "stream",
     "text": [
      "Accuracy is: 0.922 +/-0.229\n"
     ]
    }
   ],
   "source": [
    "clf =  RandomForestClassifier(n_estimators=200)\n",
    "cv_acc = cross_val_score(clf, X_first, Y, cv=10)#pour le calcul de l’accuracy\n",
    "print(\"Accuracy is: {1:.3f} +/-{2:.3f}\".format(i,np.mean(cv_acc), np.std(cv_acc)))"
   ]
  },
  {
   "cell_type": "markdown",
   "metadata": {},
   "source": [
    "On remarque que le taux d'erreur ne change pas avec le nombre d'estimateurs. Le classifieur est plutôt bon alors on peut le lancer sur les données de test. "
   ]
  },
  {
   "cell_type": "code",
   "execution_count": 33,
   "metadata": {
    "collapsed": true
   },
   "outputs": [],
   "source": [
    "clf  =  RandomForestClassifier(n_estimators=50)\n",
    "clf.fit(X_first,Y)\n",
    "predicted = clf.predict(X_test_first)"
   ]
  },
  {
   "cell_type": "markdown",
   "metadata": {},
   "source": [
    "On peut enfin préparer les données de sorties."
   ]
  },
  {
   "cell_type": "code",
   "execution_count": 42,
   "metadata": {},
   "outputs": [
    {
     "name": "stderr",
     "output_type": "stream",
     "text": [
      "C:\\Users\\schei\\Anaconda3\\lib\\site-packages\\ipykernel_launcher.py:3: SettingWithCopyWarning: \n",
      "A value is trying to be set on a copy of a slice from a DataFrame\n",
      "\n",
      "See the caveats in the documentation: http://pandas.pydata.org/pandas-docs/stable/indexing.html#indexing-view-versus-copy\n",
      "  This is separate from the ipykernel package so we can avoid doing imports until\n"
     ]
    },
    {
     "data": {
      "text/html": [
       "<div>\n",
       "<style>\n",
       "    .dataframe thead tr:only-child th {\n",
       "        text-align: right;\n",
       "    }\n",
       "\n",
       "    .dataframe thead th {\n",
       "        text-align: left;\n",
       "    }\n",
       "\n",
       "    .dataframe tbody tr th {\n",
       "        vertical-align: top;\n",
       "    }\n",
       "</style>\n",
       "<table border=\"1\" class=\"dataframe\">\n",
       "  <thead>\n",
       "    <tr style=\"text-align: right;\">\n",
       "      <th></th>\n",
       "      <th>ID_1</th>\n",
       "      <th>ID_2</th>\n",
       "      <th>ID_T</th>\n",
       "      <th>ID_R</th>\n",
       "      <th>Winner</th>\n",
       "    </tr>\n",
       "  </thead>\n",
       "  <tbody>\n",
       "    <tr>\n",
       "      <th>0</th>\n",
       "      <td>19942</td>\n",
       "      <td>32203</td>\n",
       "      <td>13204</td>\n",
       "      <td>5</td>\n",
       "      <td>1</td>\n",
       "    </tr>\n",
       "    <tr>\n",
       "      <th>1</th>\n",
       "      <td>14609</td>\n",
       "      <td>20648</td>\n",
       "      <td>12992</td>\n",
       "      <td>5</td>\n",
       "      <td>1</td>\n",
       "    </tr>\n",
       "  </tbody>\n",
       "</table>\n",
       "</div>"
      ],
      "text/plain": [
       "    ID_1   ID_2   ID_T  ID_R  Winner\n",
       "0  19942  32203  13204     5       1\n",
       "1  14609  20648  12992     5       1"
      ]
     },
     "execution_count": 42,
     "metadata": {},
     "output_type": "execute_result"
    }
   ],
   "source": [
    "keep_for_results = test[[\"ID1_G\",\"ID2_G\",\"ID_T_G\",\"ID_R_G\"]]\n",
    "keep_for_results.reset_index(inplace=True)\n",
    "keep_for_results.drop([\"index\"],axis=\"columns\",inplace=True)\n",
    "results = pd.concat([keep_for_results,pd.DataFrame([predicted]).transpose()],axis=\"columns\",join=\"inner\")\n",
    "results.columns=[\"ID_1\",\"ID_2\",\"ID_T\",\"ID_R\",\"Winner\"]\n",
    "results[\"Winner\"].replace(0,2,inplace=True)\n",
    "results.head(2)"
   ]
  },
  {
   "cell_type": "code",
   "execution_count": 43,
   "metadata": {
    "collapsed": true
   },
   "outputs": [],
   "source": [
    "results.to_csv(\"test.csv\",sep=\",\")"
   ]
  },
  {
   "cell_type": "code",
   "execution_count": 49,
   "metadata": {},
   "outputs": [
    {
     "data": {
      "image/png": "[encoded data removed]",
      "text/plain": [
       "<matplotlib.figure.Figure at 0x21b9ff97550>"
      ]
     },
     "metadata": {},
     "output_type": "display_data"
    }
   ],
   "source": [
    "results[\"Winner\"].hist()\n",
    "plt.show()"
   ]
  },
  {
   "cell_type": "markdown",
   "metadata": {},
   "source": [
    "Je suis un peu septique des résultats et l'étape suivante de mon étude serait de vérifier si la moyenne des classement  des joueurs 1 est plus faible (classement faible => meilleur joueur) que celle des les joueurs 2 dans le data test."
   ]
  },
  {
   "cell_type": "code",
   "execution_count": 50,
   "metadata": {
    "collapsed": true
   },
   "outputs": [],
   "source": [
    "#on recharge les données\n",
    "player_rates = pd.read_csv(\"player_rates.csv\")\n",
    "player_rates.drop([\"Unnamed: 0\",\"DATE_R\",\"POINT_R\"], axis=\"columns\", inplace=True)\n",
    "test = pd.read_csv(\"test_without_pred.csv\")"
   ]
  },
  {
   "cell_type": "code",
   "execution_count": 51,
   "metadata": {
    "collapsed": true
   },
   "outputs": [],
   "source": [
    "# on fait la moyenne des rangs par joueurs \n",
    "player_rates = player_rates[\"POS_R\"].groupby(player_rates[\"ID_P_R\"]).mean()"
   ]
  },
  {
   "cell_type": "code",
   "execution_count": 52,
   "metadata": {
    "collapsed": true
   },
   "outputs": [],
   "source": [
    "import numpy as np\n",
    "\n",
    "# refactor les nouvelles données\n",
    "liste = np.array(player_rates.index)\n",
    "values = player_rates.values\n",
    "df1 = pd.concat([pd.DataFrame([liste]).transpose(),pd.DataFrame([values]).transpose()], axis=\"columns\")\n",
    "df1.columns = [\"ID\",\"POS_1\"]"
   ]
  },
  {
   "cell_type": "code",
   "execution_count": 53,
   "metadata": {
    "collapsed": true
   },
   "outputs": [],
   "source": [
    "# on ajoute les rangs aux données de test\n",
    "df = pd.merge(test,df1, left_on = \"ID1_G\", right_on=\"ID\", how=\"left\")\n",
    "df.drop([\"ID\"],axis=\"columns\",inplace=True)\n",
    "df1.columns = [\"ID\",\"POS_2\"]\n",
    "df = pd.merge(df,df1, left_on = \"ID2_G\", right_on=\"ID\", how=\"left\")\n",
    "df.drop([\"ID\"],axis=\"columns\",inplace=True)\n",
    "\n",
    "# on indique que s'il n'y a pas de rang alors il est très élevé (mauvais rang)\n",
    "df.fillna(1000,inplace=True)\n"
   ]
  },
  {
   "cell_type": "code",
   "execution_count": 54,
   "metadata": {},
   "outputs": [
    {
     "data": {
      "image/png": "[encoded data removed]",
      "text/plain": [
       "<matplotlib.figure.Figure at 0x21b994752b0>"
      ]
     },
     "metadata": {},
     "output_type": "display_data"
    }
   ],
   "source": [
    "# le joueur 1 a plus de chance de gagner s'il est bien placé\n",
    "df[\"potentiellement gagnant\"]= df[\"POS_1\"]<df[\"POS_2\"]\n",
    "\n",
    "# affichage\n",
    "df[\"potentiellement gagnant\"].hist()\n",
    "plt.show()"
   ]
  },
  {
   "cell_type": "markdown",
   "metadata": {},
   "source": [
    "On remarque que le data test contient effectivement des joueurs 1 plus forts que les joueurs 2 selon le classement uniquement. \n",
    "\n",
    "Nous n'avons pas traité les données \"RESULT_G\" alors qu'elles contiennent une information intéressante : il y a-t-il eu 3 sets pour un match ? Si oui on peut comprendre que les joueurs ont été en compétition et que le match a été serré. \n",
    "\n",
    "Pour cela, il suffit de traiter la donnée RESULT_G en splitant par espace et compter le nombre d'espace et relancer l'apprentissage. \n",
    "\n",
    "Enfin, nous n'avons pas utiliser l'analyse en composantes principales qui, parfois, peut apporter plus d'informations sur les variables en trouvant les dimensions rapportant le plus d'information aux données. "
   ]
  },
  {
   "cell_type": "markdown",
   "metadata": {},
   "source": [
    "Etant en condition période d'examen et puisque le but de ce test technique est plus de montrer ce que l'on sait faire plutôt que d'avoir la meilleure prédiction, je décide d'arrêter l'analyse ici afin de me concentrer sur mes examens de la semaine. "
   ]
  },
  {
   "cell_type": "markdown",
   "metadata": {},
   "source": [
    "Je vous remercie pour votre lecture, serai très attentive à vos remarques et espère avoir votre retour bientôt. \n",
    "\n",
    "**Mathilde**"
   ]
  }
 ],
 "metadata": {
  "kernelspec": {
   "display_name": "Python 3",
   "language": "python",
   "name": "python3"
  },
  "language_info": {
   "codemirror_mode": {
    "name": "ipython",
    "version": 3
   },
   "file_extension": ".py",
   "mimetype": "text/x-python",
   "name": "python",
   "nbconvert_exporter": "python",
   "pygments_lexer": "ipython3",
   "version": "3.5.2"
  }
 },
 "nbformat": 4,
 "nbformat_minor": 2
}
